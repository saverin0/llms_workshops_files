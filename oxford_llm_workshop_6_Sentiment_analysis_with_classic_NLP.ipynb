{
  "nbformat": 4,
  "nbformat_minor": 0,
  "metadata": {
    "colab": {
      "provenance": [],
      "authorship_tag": "ABX9TyNDaQbTZ1VI5eIEeJY/FFRZ",
      "include_colab_link": true
    },
    "kernelspec": {
      "name": "python3",
      "display_name": "Python 3"
    },
    "language_info": {
      "name": "python"
    }
  },
  "cells": [
    {
      "cell_type": "markdown",
      "metadata": {
        "id": "view-in-github",
        "colab_type": "text"
      },
      "source": [
        "<a href=\"https://colab.research.google.com/github/saverin0/llms_workshops_files/blob/main/oxford_llm_workshop_6_Sentiment_analysis_with_classic_NLP.ipynb\" target=\"_parent\"><img src=\"https://colab.research.google.com/assets/colab-badge.svg\" alt=\"Open In Colab\"/></a>"
      ]
    },
    {
      "cell_type": "code",
      "execution_count": 1,
      "metadata": {
        "id": "Y_QF4j2ylpNG"
      },
      "outputs": [],
      "source": [
        "%%capture\n",
        "!pip install datasets==3.2.0"
      ]
    },
    {
      "cell_type": "code",
      "source": [
        "import spacy  # this is where we import spacy. It is preinstalled on Gooogle colab so no need to install it manually (unless you need some specific version)\n",
        "import itertools\n",
        "from datasets import load_dataset\n",
        "import pandas as pd\n",
        "import typing as tp"
      ],
      "metadata": {
        "id": "bqC-u3-nlwGh"
      },
      "execution_count": 2,
      "outputs": []
    },
    {
      "cell_type": "code",
      "source": [
        "nlp = spacy.load(\"en_core_web_sm\")"
      ],
      "metadata": {
        "id": "G6mysLoply6m"
      },
      "execution_count": 3,
      "outputs": []
    },
    {
      "cell_type": "code",
      "source": [
        "data = {\n",
        "    \"text\": [\n",
        "        \"I love this product. It is amazing!\",\n",
        "        \"This movie is terrible. I didn't like it.\",\n",
        "        \"It is such a great day today.\",\n",
        "        \"The food at that fancy restaurant was awful.\",\n",
        "    ],\n",
        "    \"label\": [0, 1, 0, 1],\n",
        "}\n",
        "\n",
        "test_df = pd.DataFrame(data)"
      ],
      "metadata": {
        "id": "YVojgcull0UW"
      },
      "execution_count": 4,
      "outputs": []
    },
    {
      "cell_type": "code",
      "source": [
        "test_df"
      ],
      "metadata": {
        "colab": {
          "base_uri": "https://localhost:8080/",
          "height": 175
        },
        "id": "ocSgShTfl7Du",
        "outputId": "ea09080d-20c0-496d-fda4-d51641598b03"
      },
      "execution_count": 5,
      "outputs": [
        {
          "output_type": "execute_result",
          "data": {
            "text/plain": [
              "                                           text  label\n",
              "0           I love this product. It is amazing!      0\n",
              "1     This movie is terrible. I didn't like it.      1\n",
              "2                 It is such a great day today.      0\n",
              "3  The food at that fancy restaurant was awful.      1"
            ],
            "text/html": [
              "\n",
              "  <div id=\"df-822d00d8-e373-442d-a1a0-dba585077854\" class=\"colab-df-container\">\n",
              "    <div>\n",
              "<style scoped>\n",
              "    .dataframe tbody tr th:only-of-type {\n",
              "        vertical-align: middle;\n",
              "    }\n",
              "\n",
              "    .dataframe tbody tr th {\n",
              "        vertical-align: top;\n",
              "    }\n",
              "\n",
              "    .dataframe thead th {\n",
              "        text-align: right;\n",
              "    }\n",
              "</style>\n",
              "<table border=\"1\" class=\"dataframe\">\n",
              "  <thead>\n",
              "    <tr style=\"text-align: right;\">\n",
              "      <th></th>\n",
              "      <th>text</th>\n",
              "      <th>label</th>\n",
              "    </tr>\n",
              "  </thead>\n",
              "  <tbody>\n",
              "    <tr>\n",
              "      <th>0</th>\n",
              "      <td>I love this product. It is amazing!</td>\n",
              "      <td>0</td>\n",
              "    </tr>\n",
              "    <tr>\n",
              "      <th>1</th>\n",
              "      <td>This movie is terrible. I didn't like it.</td>\n",
              "      <td>1</td>\n",
              "    </tr>\n",
              "    <tr>\n",
              "      <th>2</th>\n",
              "      <td>It is such a great day today.</td>\n",
              "      <td>0</td>\n",
              "    </tr>\n",
              "    <tr>\n",
              "      <th>3</th>\n",
              "      <td>The food at that fancy restaurant was awful.</td>\n",
              "      <td>1</td>\n",
              "    </tr>\n",
              "  </tbody>\n",
              "</table>\n",
              "</div>\n",
              "    <div class=\"colab-df-buttons\">\n",
              "\n",
              "  <div class=\"colab-df-container\">\n",
              "    <button class=\"colab-df-convert\" onclick=\"convertToInteractive('df-822d00d8-e373-442d-a1a0-dba585077854')\"\n",
              "            title=\"Convert this dataframe to an interactive table.\"\n",
              "            style=\"display:none;\">\n",
              "\n",
              "  <svg xmlns=\"http://www.w3.org/2000/svg\" height=\"24px\" viewBox=\"0 -960 960 960\">\n",
              "    <path d=\"M120-120v-720h720v720H120Zm60-500h600v-160H180v160Zm220 220h160v-160H400v160Zm0 220h160v-160H400v160ZM180-400h160v-160H180v160Zm440 0h160v-160H620v160ZM180-180h160v-160H180v160Zm440 0h160v-160H620v160Z\"/>\n",
              "  </svg>\n",
              "    </button>\n",
              "\n",
              "  <style>\n",
              "    .colab-df-container {\n",
              "      display:flex;\n",
              "      gap: 12px;\n",
              "    }\n",
              "\n",
              "    .colab-df-convert {\n",
              "      background-color: #E8F0FE;\n",
              "      border: none;\n",
              "      border-radius: 50%;\n",
              "      cursor: pointer;\n",
              "      display: none;\n",
              "      fill: #1967D2;\n",
              "      height: 32px;\n",
              "      padding: 0 0 0 0;\n",
              "      width: 32px;\n",
              "    }\n",
              "\n",
              "    .colab-df-convert:hover {\n",
              "      background-color: #E2EBFA;\n",
              "      box-shadow: 0px 1px 2px rgba(60, 64, 67, 0.3), 0px 1px 3px 1px rgba(60, 64, 67, 0.15);\n",
              "      fill: #174EA6;\n",
              "    }\n",
              "\n",
              "    .colab-df-buttons div {\n",
              "      margin-bottom: 4px;\n",
              "    }\n",
              "\n",
              "    [theme=dark] .colab-df-convert {\n",
              "      background-color: #3B4455;\n",
              "      fill: #D2E3FC;\n",
              "    }\n",
              "\n",
              "    [theme=dark] .colab-df-convert:hover {\n",
              "      background-color: #434B5C;\n",
              "      box-shadow: 0px 1px 3px 1px rgba(0, 0, 0, 0.15);\n",
              "      filter: drop-shadow(0px 1px 2px rgba(0, 0, 0, 0.3));\n",
              "      fill: #FFFFFF;\n",
              "    }\n",
              "  </style>\n",
              "\n",
              "    <script>\n",
              "      const buttonEl =\n",
              "        document.querySelector('#df-822d00d8-e373-442d-a1a0-dba585077854 button.colab-df-convert');\n",
              "      buttonEl.style.display =\n",
              "        google.colab.kernel.accessAllowed ? 'block' : 'none';\n",
              "\n",
              "      async function convertToInteractive(key) {\n",
              "        const element = document.querySelector('#df-822d00d8-e373-442d-a1a0-dba585077854');\n",
              "        const dataTable =\n",
              "          await google.colab.kernel.invokeFunction('convertToInteractive',\n",
              "                                                    [key], {});\n",
              "        if (!dataTable) return;\n",
              "\n",
              "        const docLinkHtml = 'Like what you see? Visit the ' +\n",
              "          '<a target=\"_blank\" href=https://colab.research.google.com/notebooks/data_table.ipynb>data table notebook</a>'\n",
              "          + ' to learn more about interactive tables.';\n",
              "        element.innerHTML = '';\n",
              "        dataTable['output_type'] = 'display_data';\n",
              "        await google.colab.output.renderOutput(dataTable, element);\n",
              "        const docLink = document.createElement('div');\n",
              "        docLink.innerHTML = docLinkHtml;\n",
              "        element.appendChild(docLink);\n",
              "      }\n",
              "    </script>\n",
              "  </div>\n",
              "\n",
              "\n",
              "    <div id=\"df-c3e077ea-30ed-4dba-96b8-fca75a9eed6d\">\n",
              "      <button class=\"colab-df-quickchart\" onclick=\"quickchart('df-c3e077ea-30ed-4dba-96b8-fca75a9eed6d')\"\n",
              "                title=\"Suggest charts\"\n",
              "                style=\"display:none;\">\n",
              "\n",
              "<svg xmlns=\"http://www.w3.org/2000/svg\" height=\"24px\"viewBox=\"0 0 24 24\"\n",
              "     width=\"24px\">\n",
              "    <g>\n",
              "        <path d=\"M19 3H5c-1.1 0-2 .9-2 2v14c0 1.1.9 2 2 2h14c1.1 0 2-.9 2-2V5c0-1.1-.9-2-2-2zM9 17H7v-7h2v7zm4 0h-2V7h2v10zm4 0h-2v-4h2v4z\"/>\n",
              "    </g>\n",
              "</svg>\n",
              "      </button>\n",
              "\n",
              "<style>\n",
              "  .colab-df-quickchart {\n",
              "      --bg-color: #E8F0FE;\n",
              "      --fill-color: #1967D2;\n",
              "      --hover-bg-color: #E2EBFA;\n",
              "      --hover-fill-color: #174EA6;\n",
              "      --disabled-fill-color: #AAA;\n",
              "      --disabled-bg-color: #DDD;\n",
              "  }\n",
              "\n",
              "  [theme=dark] .colab-df-quickchart {\n",
              "      --bg-color: #3B4455;\n",
              "      --fill-color: #D2E3FC;\n",
              "      --hover-bg-color: #434B5C;\n",
              "      --hover-fill-color: #FFFFFF;\n",
              "      --disabled-bg-color: #3B4455;\n",
              "      --disabled-fill-color: #666;\n",
              "  }\n",
              "\n",
              "  .colab-df-quickchart {\n",
              "    background-color: var(--bg-color);\n",
              "    border: none;\n",
              "    border-radius: 50%;\n",
              "    cursor: pointer;\n",
              "    display: none;\n",
              "    fill: var(--fill-color);\n",
              "    height: 32px;\n",
              "    padding: 0;\n",
              "    width: 32px;\n",
              "  }\n",
              "\n",
              "  .colab-df-quickchart:hover {\n",
              "    background-color: var(--hover-bg-color);\n",
              "    box-shadow: 0 1px 2px rgba(60, 64, 67, 0.3), 0 1px 3px 1px rgba(60, 64, 67, 0.15);\n",
              "    fill: var(--button-hover-fill-color);\n",
              "  }\n",
              "\n",
              "  .colab-df-quickchart-complete:disabled,\n",
              "  .colab-df-quickchart-complete:disabled:hover {\n",
              "    background-color: var(--disabled-bg-color);\n",
              "    fill: var(--disabled-fill-color);\n",
              "    box-shadow: none;\n",
              "  }\n",
              "\n",
              "  .colab-df-spinner {\n",
              "    border: 2px solid var(--fill-color);\n",
              "    border-color: transparent;\n",
              "    border-bottom-color: var(--fill-color);\n",
              "    animation:\n",
              "      spin 1s steps(1) infinite;\n",
              "  }\n",
              "\n",
              "  @keyframes spin {\n",
              "    0% {\n",
              "      border-color: transparent;\n",
              "      border-bottom-color: var(--fill-color);\n",
              "      border-left-color: var(--fill-color);\n",
              "    }\n",
              "    20% {\n",
              "      border-color: transparent;\n",
              "      border-left-color: var(--fill-color);\n",
              "      border-top-color: var(--fill-color);\n",
              "    }\n",
              "    30% {\n",
              "      border-color: transparent;\n",
              "      border-left-color: var(--fill-color);\n",
              "      border-top-color: var(--fill-color);\n",
              "      border-right-color: var(--fill-color);\n",
              "    }\n",
              "    40% {\n",
              "      border-color: transparent;\n",
              "      border-right-color: var(--fill-color);\n",
              "      border-top-color: var(--fill-color);\n",
              "    }\n",
              "    60% {\n",
              "      border-color: transparent;\n",
              "      border-right-color: var(--fill-color);\n",
              "    }\n",
              "    80% {\n",
              "      border-color: transparent;\n",
              "      border-right-color: var(--fill-color);\n",
              "      border-bottom-color: var(--fill-color);\n",
              "    }\n",
              "    90% {\n",
              "      border-color: transparent;\n",
              "      border-bottom-color: var(--fill-color);\n",
              "    }\n",
              "  }\n",
              "</style>\n",
              "\n",
              "      <script>\n",
              "        async function quickchart(key) {\n",
              "          const quickchartButtonEl =\n",
              "            document.querySelector('#' + key + ' button');\n",
              "          quickchartButtonEl.disabled = true;  // To prevent multiple clicks.\n",
              "          quickchartButtonEl.classList.add('colab-df-spinner');\n",
              "          try {\n",
              "            const charts = await google.colab.kernel.invokeFunction(\n",
              "                'suggestCharts', [key], {});\n",
              "          } catch (error) {\n",
              "            console.error('Error during call to suggestCharts:', error);\n",
              "          }\n",
              "          quickchartButtonEl.classList.remove('colab-df-spinner');\n",
              "          quickchartButtonEl.classList.add('colab-df-quickchart-complete');\n",
              "        }\n",
              "        (() => {\n",
              "          let quickchartButtonEl =\n",
              "            document.querySelector('#df-c3e077ea-30ed-4dba-96b8-fca75a9eed6d button');\n",
              "          quickchartButtonEl.style.display =\n",
              "            google.colab.kernel.accessAllowed ? 'block' : 'none';\n",
              "        })();\n",
              "      </script>\n",
              "    </div>\n",
              "\n",
              "  <div id=\"id_ba8ffa8c-9cce-4898-8a6d-f57e3bcaf7cc\">\n",
              "    <style>\n",
              "      .colab-df-generate {\n",
              "        background-color: #E8F0FE;\n",
              "        border: none;\n",
              "        border-radius: 50%;\n",
              "        cursor: pointer;\n",
              "        display: none;\n",
              "        fill: #1967D2;\n",
              "        height: 32px;\n",
              "        padding: 0 0 0 0;\n",
              "        width: 32px;\n",
              "      }\n",
              "\n",
              "      .colab-df-generate:hover {\n",
              "        background-color: #E2EBFA;\n",
              "        box-shadow: 0px 1px 2px rgba(60, 64, 67, 0.3), 0px 1px 3px 1px rgba(60, 64, 67, 0.15);\n",
              "        fill: #174EA6;\n",
              "      }\n",
              "\n",
              "      [theme=dark] .colab-df-generate {\n",
              "        background-color: #3B4455;\n",
              "        fill: #D2E3FC;\n",
              "      }\n",
              "\n",
              "      [theme=dark] .colab-df-generate:hover {\n",
              "        background-color: #434B5C;\n",
              "        box-shadow: 0px 1px 3px 1px rgba(0, 0, 0, 0.15);\n",
              "        filter: drop-shadow(0px 1px 2px rgba(0, 0, 0, 0.3));\n",
              "        fill: #FFFFFF;\n",
              "      }\n",
              "    </style>\n",
              "    <button class=\"colab-df-generate\" onclick=\"generateWithVariable('test_df')\"\n",
              "            title=\"Generate code using this dataframe.\"\n",
              "            style=\"display:none;\">\n",
              "\n",
              "  <svg xmlns=\"http://www.w3.org/2000/svg\" height=\"24px\"viewBox=\"0 0 24 24\"\n",
              "       width=\"24px\">\n",
              "    <path d=\"M7,19H8.4L18.45,9,17,7.55,7,17.6ZM5,21V16.75L18.45,3.32a2,2,0,0,1,2.83,0l1.4,1.43a1.91,1.91,0,0,1,.58,1.4,1.91,1.91,0,0,1-.58,1.4L9.25,21ZM18.45,9,17,7.55Zm-12,3A5.31,5.31,0,0,0,4.9,8.1,5.31,5.31,0,0,0,1,6.5,5.31,5.31,0,0,0,4.9,4.9,5.31,5.31,0,0,0,6.5,1,5.31,5.31,0,0,0,8.1,4.9,5.31,5.31,0,0,0,12,6.5,5.46,5.46,0,0,0,6.5,12Z\"/>\n",
              "  </svg>\n",
              "    </button>\n",
              "    <script>\n",
              "      (() => {\n",
              "      const buttonEl =\n",
              "        document.querySelector('#id_ba8ffa8c-9cce-4898-8a6d-f57e3bcaf7cc button.colab-df-generate');\n",
              "      buttonEl.style.display =\n",
              "        google.colab.kernel.accessAllowed ? 'block' : 'none';\n",
              "\n",
              "      buttonEl.onclick = () => {\n",
              "        google.colab.notebook.generateWithVariable('test_df');\n",
              "      }\n",
              "      })();\n",
              "    </script>\n",
              "  </div>\n",
              "\n",
              "    </div>\n",
              "  </div>\n"
            ],
            "application/vnd.google.colaboratory.intrinsic+json": {
              "type": "dataframe",
              "variable_name": "test_df",
              "summary": "{\n  \"name\": \"test_df\",\n  \"rows\": 4,\n  \"fields\": [\n    {\n      \"column\": \"text\",\n      \"properties\": {\n        \"dtype\": \"string\",\n        \"num_unique_values\": 4,\n        \"samples\": [\n          \"This movie is terrible. I didn't like it.\",\n          \"The food at that fancy restaurant was awful.\",\n          \"I love this product. It is amazing!\"\n        ],\n        \"semantic_type\": \"\",\n        \"description\": \"\"\n      }\n    },\n    {\n      \"column\": \"label\",\n      \"properties\": {\n        \"dtype\": \"number\",\n        \"std\": 0,\n        \"min\": 0,\n        \"max\": 1,\n        \"num_unique_values\": 2,\n        \"samples\": [\n          1,\n          0\n        ],\n        \"semantic_type\": \"\",\n        \"description\": \"\"\n      }\n    }\n  ]\n}"
            }
          },
          "metadata": {},
          "execution_count": 5
        }
      ]
    },
    {
      "cell_type": "code",
      "source": [
        "condition = test_df[\"label\"] == 1  # return rows where label == 1\n",
        "\n",
        "test_df[condition]"
      ],
      "metadata": {
        "colab": {
          "base_uri": "https://localhost:8080/",
          "height": 112
        },
        "id": "XBG4-gd9l90M",
        "outputId": "b146fddc-204d-4c66-ab11-e25aa8b3e3d1"
      },
      "execution_count": 6,
      "outputs": [
        {
          "output_type": "execute_result",
          "data": {
            "text/plain": [
              "                                           text  label\n",
              "1     This movie is terrible. I didn't like it.      1\n",
              "3  The food at that fancy restaurant was awful.      1"
            ],
            "text/html": [
              "\n",
              "  <div id=\"df-7c0a6219-daf9-4394-91e1-1e5c2766a41c\" class=\"colab-df-container\">\n",
              "    <div>\n",
              "<style scoped>\n",
              "    .dataframe tbody tr th:only-of-type {\n",
              "        vertical-align: middle;\n",
              "    }\n",
              "\n",
              "    .dataframe tbody tr th {\n",
              "        vertical-align: top;\n",
              "    }\n",
              "\n",
              "    .dataframe thead th {\n",
              "        text-align: right;\n",
              "    }\n",
              "</style>\n",
              "<table border=\"1\" class=\"dataframe\">\n",
              "  <thead>\n",
              "    <tr style=\"text-align: right;\">\n",
              "      <th></th>\n",
              "      <th>text</th>\n",
              "      <th>label</th>\n",
              "    </tr>\n",
              "  </thead>\n",
              "  <tbody>\n",
              "    <tr>\n",
              "      <th>1</th>\n",
              "      <td>This movie is terrible. I didn't like it.</td>\n",
              "      <td>1</td>\n",
              "    </tr>\n",
              "    <tr>\n",
              "      <th>3</th>\n",
              "      <td>The food at that fancy restaurant was awful.</td>\n",
              "      <td>1</td>\n",
              "    </tr>\n",
              "  </tbody>\n",
              "</table>\n",
              "</div>\n",
              "    <div class=\"colab-df-buttons\">\n",
              "\n",
              "  <div class=\"colab-df-container\">\n",
              "    <button class=\"colab-df-convert\" onclick=\"convertToInteractive('df-7c0a6219-daf9-4394-91e1-1e5c2766a41c')\"\n",
              "            title=\"Convert this dataframe to an interactive table.\"\n",
              "            style=\"display:none;\">\n",
              "\n",
              "  <svg xmlns=\"http://www.w3.org/2000/svg\" height=\"24px\" viewBox=\"0 -960 960 960\">\n",
              "    <path d=\"M120-120v-720h720v720H120Zm60-500h600v-160H180v160Zm220 220h160v-160H400v160Zm0 220h160v-160H400v160ZM180-400h160v-160H180v160Zm440 0h160v-160H620v160ZM180-180h160v-160H180v160Zm440 0h160v-160H620v160Z\"/>\n",
              "  </svg>\n",
              "    </button>\n",
              "\n",
              "  <style>\n",
              "    .colab-df-container {\n",
              "      display:flex;\n",
              "      gap: 12px;\n",
              "    }\n",
              "\n",
              "    .colab-df-convert {\n",
              "      background-color: #E8F0FE;\n",
              "      border: none;\n",
              "      border-radius: 50%;\n",
              "      cursor: pointer;\n",
              "      display: none;\n",
              "      fill: #1967D2;\n",
              "      height: 32px;\n",
              "      padding: 0 0 0 0;\n",
              "      width: 32px;\n",
              "    }\n",
              "\n",
              "    .colab-df-convert:hover {\n",
              "      background-color: #E2EBFA;\n",
              "      box-shadow: 0px 1px 2px rgba(60, 64, 67, 0.3), 0px 1px 3px 1px rgba(60, 64, 67, 0.15);\n",
              "      fill: #174EA6;\n",
              "    }\n",
              "\n",
              "    .colab-df-buttons div {\n",
              "      margin-bottom: 4px;\n",
              "    }\n",
              "\n",
              "    [theme=dark] .colab-df-convert {\n",
              "      background-color: #3B4455;\n",
              "      fill: #D2E3FC;\n",
              "    }\n",
              "\n",
              "    [theme=dark] .colab-df-convert:hover {\n",
              "      background-color: #434B5C;\n",
              "      box-shadow: 0px 1px 3px 1px rgba(0, 0, 0, 0.15);\n",
              "      filter: drop-shadow(0px 1px 2px rgba(0, 0, 0, 0.3));\n",
              "      fill: #FFFFFF;\n",
              "    }\n",
              "  </style>\n",
              "\n",
              "    <script>\n",
              "      const buttonEl =\n",
              "        document.querySelector('#df-7c0a6219-daf9-4394-91e1-1e5c2766a41c button.colab-df-convert');\n",
              "      buttonEl.style.display =\n",
              "        google.colab.kernel.accessAllowed ? 'block' : 'none';\n",
              "\n",
              "      async function convertToInteractive(key) {\n",
              "        const element = document.querySelector('#df-7c0a6219-daf9-4394-91e1-1e5c2766a41c');\n",
              "        const dataTable =\n",
              "          await google.colab.kernel.invokeFunction('convertToInteractive',\n",
              "                                                    [key], {});\n",
              "        if (!dataTable) return;\n",
              "\n",
              "        const docLinkHtml = 'Like what you see? Visit the ' +\n",
              "          '<a target=\"_blank\" href=https://colab.research.google.com/notebooks/data_table.ipynb>data table notebook</a>'\n",
              "          + ' to learn more about interactive tables.';\n",
              "        element.innerHTML = '';\n",
              "        dataTable['output_type'] = 'display_data';\n",
              "        await google.colab.output.renderOutput(dataTable, element);\n",
              "        const docLink = document.createElement('div');\n",
              "        docLink.innerHTML = docLinkHtml;\n",
              "        element.appendChild(docLink);\n",
              "      }\n",
              "    </script>\n",
              "  </div>\n",
              "\n",
              "\n",
              "    <div id=\"df-a5708be1-74b3-45e0-b5f8-8161097a9aa5\">\n",
              "      <button class=\"colab-df-quickchart\" onclick=\"quickchart('df-a5708be1-74b3-45e0-b5f8-8161097a9aa5')\"\n",
              "                title=\"Suggest charts\"\n",
              "                style=\"display:none;\">\n",
              "\n",
              "<svg xmlns=\"http://www.w3.org/2000/svg\" height=\"24px\"viewBox=\"0 0 24 24\"\n",
              "     width=\"24px\">\n",
              "    <g>\n",
              "        <path d=\"M19 3H5c-1.1 0-2 .9-2 2v14c0 1.1.9 2 2 2h14c1.1 0 2-.9 2-2V5c0-1.1-.9-2-2-2zM9 17H7v-7h2v7zm4 0h-2V7h2v10zm4 0h-2v-4h2v4z\"/>\n",
              "    </g>\n",
              "</svg>\n",
              "      </button>\n",
              "\n",
              "<style>\n",
              "  .colab-df-quickchart {\n",
              "      --bg-color: #E8F0FE;\n",
              "      --fill-color: #1967D2;\n",
              "      --hover-bg-color: #E2EBFA;\n",
              "      --hover-fill-color: #174EA6;\n",
              "      --disabled-fill-color: #AAA;\n",
              "      --disabled-bg-color: #DDD;\n",
              "  }\n",
              "\n",
              "  [theme=dark] .colab-df-quickchart {\n",
              "      --bg-color: #3B4455;\n",
              "      --fill-color: #D2E3FC;\n",
              "      --hover-bg-color: #434B5C;\n",
              "      --hover-fill-color: #FFFFFF;\n",
              "      --disabled-bg-color: #3B4455;\n",
              "      --disabled-fill-color: #666;\n",
              "  }\n",
              "\n",
              "  .colab-df-quickchart {\n",
              "    background-color: var(--bg-color);\n",
              "    border: none;\n",
              "    border-radius: 50%;\n",
              "    cursor: pointer;\n",
              "    display: none;\n",
              "    fill: var(--fill-color);\n",
              "    height: 32px;\n",
              "    padding: 0;\n",
              "    width: 32px;\n",
              "  }\n",
              "\n",
              "  .colab-df-quickchart:hover {\n",
              "    background-color: var(--hover-bg-color);\n",
              "    box-shadow: 0 1px 2px rgba(60, 64, 67, 0.3), 0 1px 3px 1px rgba(60, 64, 67, 0.15);\n",
              "    fill: var(--button-hover-fill-color);\n",
              "  }\n",
              "\n",
              "  .colab-df-quickchart-complete:disabled,\n",
              "  .colab-df-quickchart-complete:disabled:hover {\n",
              "    background-color: var(--disabled-bg-color);\n",
              "    fill: var(--disabled-fill-color);\n",
              "    box-shadow: none;\n",
              "  }\n",
              "\n",
              "  .colab-df-spinner {\n",
              "    border: 2px solid var(--fill-color);\n",
              "    border-color: transparent;\n",
              "    border-bottom-color: var(--fill-color);\n",
              "    animation:\n",
              "      spin 1s steps(1) infinite;\n",
              "  }\n",
              "\n",
              "  @keyframes spin {\n",
              "    0% {\n",
              "      border-color: transparent;\n",
              "      border-bottom-color: var(--fill-color);\n",
              "      border-left-color: var(--fill-color);\n",
              "    }\n",
              "    20% {\n",
              "      border-color: transparent;\n",
              "      border-left-color: var(--fill-color);\n",
              "      border-top-color: var(--fill-color);\n",
              "    }\n",
              "    30% {\n",
              "      border-color: transparent;\n",
              "      border-left-color: var(--fill-color);\n",
              "      border-top-color: var(--fill-color);\n",
              "      border-right-color: var(--fill-color);\n",
              "    }\n",
              "    40% {\n",
              "      border-color: transparent;\n",
              "      border-right-color: var(--fill-color);\n",
              "      border-top-color: var(--fill-color);\n",
              "    }\n",
              "    60% {\n",
              "      border-color: transparent;\n",
              "      border-right-color: var(--fill-color);\n",
              "    }\n",
              "    80% {\n",
              "      border-color: transparent;\n",
              "      border-right-color: var(--fill-color);\n",
              "      border-bottom-color: var(--fill-color);\n",
              "    }\n",
              "    90% {\n",
              "      border-color: transparent;\n",
              "      border-bottom-color: var(--fill-color);\n",
              "    }\n",
              "  }\n",
              "</style>\n",
              "\n",
              "      <script>\n",
              "        async function quickchart(key) {\n",
              "          const quickchartButtonEl =\n",
              "            document.querySelector('#' + key + ' button');\n",
              "          quickchartButtonEl.disabled = true;  // To prevent multiple clicks.\n",
              "          quickchartButtonEl.classList.add('colab-df-spinner');\n",
              "          try {\n",
              "            const charts = await google.colab.kernel.invokeFunction(\n",
              "                'suggestCharts', [key], {});\n",
              "          } catch (error) {\n",
              "            console.error('Error during call to suggestCharts:', error);\n",
              "          }\n",
              "          quickchartButtonEl.classList.remove('colab-df-spinner');\n",
              "          quickchartButtonEl.classList.add('colab-df-quickchart-complete');\n",
              "        }\n",
              "        (() => {\n",
              "          let quickchartButtonEl =\n",
              "            document.querySelector('#df-a5708be1-74b3-45e0-b5f8-8161097a9aa5 button');\n",
              "          quickchartButtonEl.style.display =\n",
              "            google.colab.kernel.accessAllowed ? 'block' : 'none';\n",
              "        })();\n",
              "      </script>\n",
              "    </div>\n",
              "\n",
              "    </div>\n",
              "  </div>\n"
            ],
            "application/vnd.google.colaboratory.intrinsic+json": {
              "type": "dataframe",
              "summary": "{\n  \"name\": \"test_df[condition]\",\n  \"rows\": 2,\n  \"fields\": [\n    {\n      \"column\": \"text\",\n      \"properties\": {\n        \"dtype\": \"string\",\n        \"num_unique_values\": 2,\n        \"samples\": [\n          \"The food at that fancy restaurant was awful.\",\n          \"This movie is terrible. I didn't like it.\"\n        ],\n        \"semantic_type\": \"\",\n        \"description\": \"\"\n      }\n    },\n    {\n      \"column\": \"label\",\n      \"properties\": {\n        \"dtype\": \"number\",\n        \"std\": 0,\n        \"min\": 1,\n        \"max\": 1,\n        \"num_unique_values\": 1,\n        \"samples\": [\n          1\n        ],\n        \"semantic_type\": \"\",\n        \"description\": \"\"\n      }\n    }\n  ]\n}"
            }
          },
          "metadata": {},
          "execution_count": 6
        }
      ]
    },
    {
      "cell_type": "code",
      "source": [
        "condition"
      ],
      "metadata": {
        "colab": {
          "base_uri": "https://localhost:8080/",
          "height": 209
        },
        "id": "s_BupEGnmAYT",
        "outputId": "62409907-fd88-4371-f3b9-1cce9e20acd5"
      },
      "execution_count": 7,
      "outputs": [
        {
          "output_type": "execute_result",
          "data": {
            "text/plain": [
              "0    False\n",
              "1     True\n",
              "2    False\n",
              "3     True\n",
              "Name: label, dtype: bool"
            ],
            "text/html": [
              "<div>\n",
              "<style scoped>\n",
              "    .dataframe tbody tr th:only-of-type {\n",
              "        vertical-align: middle;\n",
              "    }\n",
              "\n",
              "    .dataframe tbody tr th {\n",
              "        vertical-align: top;\n",
              "    }\n",
              "\n",
              "    .dataframe thead th {\n",
              "        text-align: right;\n",
              "    }\n",
              "</style>\n",
              "<table border=\"1\" class=\"dataframe\">\n",
              "  <thead>\n",
              "    <tr style=\"text-align: right;\">\n",
              "      <th></th>\n",
              "      <th>label</th>\n",
              "    </tr>\n",
              "  </thead>\n",
              "  <tbody>\n",
              "    <tr>\n",
              "      <th>0</th>\n",
              "      <td>False</td>\n",
              "    </tr>\n",
              "    <tr>\n",
              "      <th>1</th>\n",
              "      <td>True</td>\n",
              "    </tr>\n",
              "    <tr>\n",
              "      <th>2</th>\n",
              "      <td>False</td>\n",
              "    </tr>\n",
              "    <tr>\n",
              "      <th>3</th>\n",
              "      <td>True</td>\n",
              "    </tr>\n",
              "  </tbody>\n",
              "</table>\n",
              "</div><br><label><b>dtype:</b> bool</label>"
            ]
          },
          "metadata": {},
          "execution_count": 7
        }
      ]
    },
    {
      "cell_type": "code",
      "source": [
        "# this may help: https://stackoverflow.com/questions/17071871/how-do-i-select-rows-from-a-dataframe-based-on-column-values\n",
        "\n",
        "\n",
        "def get_texts_by_label(df: pd.DataFrame, label: int) -> tp.List[str]:\n",
        "    \"\"\"\n",
        "    filter data by label and column\n",
        "    \"\"\"\n",
        "    condition = df[\"label\"] == label\n",
        "    return df[\"text\"][condition]"
      ],
      "metadata": {
        "id": "khTkUH0ImFRj"
      },
      "execution_count": 8,
      "outputs": []
    },
    {
      "cell_type": "code",
      "source": [
        "expected_output_label_1 = [\n",
        "    \"This movie is terrible. I didn't like it.\",\n",
        "    \"The food at that fancy restaurant was awful.\",\n",
        "]\n",
        "expected_output_label_0 = [\n",
        "    \"I love this product. It is amazing!\",\n",
        "    \"It is such a great day today.\",\n",
        "]"
      ],
      "metadata": {
        "id": "j34HGtjlmH-b"
      },
      "execution_count": 9,
      "outputs": []
    },
    {
      "cell_type": "code",
      "source": [
        "assert set(get_texts_by_label(test_df, 0)) == set(expected_output_label_0)"
      ],
      "metadata": {
        "id": "Sfh7vVOPmJfA"
      },
      "execution_count": 10,
      "outputs": []
    },
    {
      "cell_type": "code",
      "source": [
        "assert set(get_texts_by_label(test_df, 1)) == set(expected_output_label_1)"
      ],
      "metadata": {
        "id": "DSdkohBSmLSj"
      },
      "execution_count": 11,
      "outputs": []
    },
    {
      "cell_type": "code",
      "source": [
        "text = \"I love this product. It is amazing!\""
      ],
      "metadata": {
        "id": "11DpN9vcmMlX"
      },
      "execution_count": 12,
      "outputs": []
    },
    {
      "cell_type": "code",
      "source": [
        "type(text)"
      ],
      "metadata": {
        "colab": {
          "base_uri": "https://localhost:8080/"
        },
        "id": "I7XztZmsmN_a",
        "outputId": "1de27fd4-265d-4120-b23d-709ec8ba595c"
      },
      "execution_count": 13,
      "outputs": [
        {
          "output_type": "execute_result",
          "data": {
            "text/plain": [
              "str"
            ]
          },
          "metadata": {},
          "execution_count": 13
        }
      ]
    },
    {
      "cell_type": "code",
      "source": [
        "doc = nlp(text)"
      ],
      "metadata": {
        "id": "ChROH-ivmP4g"
      },
      "execution_count": 14,
      "outputs": []
    },
    {
      "cell_type": "code",
      "source": [
        "expected_output_label_1"
      ],
      "metadata": {
        "colab": {
          "base_uri": "https://localhost:8080/"
        },
        "id": "3qHNZUGLmR36",
        "outputId": "33335eea-4329-4b1c-a883-f67532d4760e"
      },
      "execution_count": 15,
      "outputs": [
        {
          "output_type": "execute_result",
          "data": {
            "text/plain": [
              "[\"This movie is terrible. I didn't like it.\",\n",
              " 'The food at that fancy restaurant was awful.']"
            ]
          },
          "metadata": {},
          "execution_count": 15
        }
      ]
    },
    {
      "cell_type": "code",
      "source": [
        "[len(text) for text in expected_output_label_1]"
      ],
      "metadata": {
        "colab": {
          "base_uri": "https://localhost:8080/"
        },
        "id": "TmhfSoQJmTf9",
        "outputId": "1b8938ad-c293-426d-ff08-dc27843e2c42"
      },
      "execution_count": 16,
      "outputs": [
        {
          "output_type": "execute_result",
          "data": {
            "text/plain": [
              "[41, 44]"
            ]
          },
          "metadata": {},
          "execution_count": 16
        }
      ]
    },
    {
      "cell_type": "code",
      "source": [
        "def convert_texts_to_spacy_docs(texts: tp.List[str]) -> tp.List[spacy.tokens.doc.Doc]:\n",
        "    \"\"\"\n",
        "    Wrap each text into Spact Doc object.\n",
        "    \"\"\"\n",
        "    return [nlp(text) for text in texts]"
      ],
      "metadata": {
        "id": "AHIdNaqfmVZL"
      },
      "execution_count": 17,
      "outputs": []
    },
    {
      "cell_type": "code",
      "source": [
        "docs = convert_texts_to_spacy_docs(expected_output_label_0)\n",
        "\n",
        "assert all(isinstance(doc, spacy.tokens.doc.Doc) for doc in docs)"
      ],
      "metadata": {
        "id": "Fg6orDEpmX3M"
      },
      "execution_count": 18,
      "outputs": []
    },
    {
      "cell_type": "code",
      "source": [
        "# demonstration\n",
        "\n",
        "for token in doc:\n",
        "    print(token.text)"
      ],
      "metadata": {
        "colab": {
          "base_uri": "https://localhost:8080/"
        },
        "id": "mN4tdTIEmZZG",
        "outputId": "d5f4201f-16ee-42e0-a6ee-9d7d155e0ad9"
      },
      "execution_count": 19,
      "outputs": [
        {
          "output_type": "stream",
          "name": "stdout",
          "text": [
            "I\n",
            "love\n",
            "this\n",
            "product\n",
            ".\n",
            "It\n",
            "is\n",
            "amazing\n",
            "!\n"
          ]
        }
      ]
    },
    {
      "cell_type": "code",
      "source": [
        "def get_tokens_from_single_doc(\n",
        "    doc: spacy.tokens.doc.Doc, lemmatize: bool = False\n",
        ") -> tp.List[str]:\n",
        "    \"\"\"\n",
        "    get strin representation of tokens from the doc. Add a lemmatize param\n",
        "    to apply lemmatisation of tokens.\n",
        "    \"\"\"\n",
        "    if lemmatize:\n",
        "        return [token.lemma_ for token in doc]\n",
        "    return [token.text for token in doc]\n",
        "\n",
        "\n",
        "sample_doc = docs[0]  # this will work if you coreeclty solved previous task\n",
        "\n",
        "tokens = get_tokens_from_single_doc(sample_doc, lemmatize=False)\n",
        "assert all(isinstance(token, str) for token in tokens)"
      ],
      "metadata": {
        "id": "AuNl9tf0mb2d"
      },
      "execution_count": 20,
      "outputs": []
    },
    {
      "cell_type": "code",
      "source": [
        "# demosntration of lemmatizer\n",
        "\n",
        "get_tokens_from_single_doc(nlp(\"these birds are beautiful\"), lemmatize=True)"
      ],
      "metadata": {
        "colab": {
          "base_uri": "https://localhost:8080/"
        },
        "id": "7W606trGmdgl",
        "outputId": "cf39792f-b533-417b-996d-d52be68d6338"
      },
      "execution_count": 21,
      "outputs": [
        {
          "output_type": "execute_result",
          "data": {
            "text/plain": [
              "['these', 'bird', 'be', 'beautiful']"
            ]
          },
          "metadata": {},
          "execution_count": 21
        }
      ]
    },
    {
      "cell_type": "markdown",
      "source": [
        "### 4) Extract tokens from a list of docs.\n",
        "\n",
        "Given a list of docs (e.g. from task 2, extract tokens from each doc and return list where each element is a list of tokens for given doc.\n",
        "\n",
        "Expected output should be in the following format ```tokens_from_docs = [[\"it\", \"is\", \"good\"], [\"this\", \"movie\", \"is\", \"the\", \"best\"]]```. This is a reference examples and tokens here are just for reference. Use it as a guide to understand better type of expected output."
      ],
      "metadata": {
        "id": "HDFr4J9upZAV"
      }
    },
    {
      "cell_type": "code",
      "source": [
        "def extract_tokens_from_docs(\n",
        "    docs: tp.List[spacy.tokens.doc.Doc],\n",
        ") -> tp.List[tp.List[str]]:\n",
        "    \"\"\"\n",
        "    get tokens from every doc from input docs.\n",
        "    \"\"\"\n",
        "    return [get_tokens_from_single_doc(doc) for doc in docs]\n",
        "\n",
        "\n",
        "tokens_from_docs = extract_tokens_from_docs(docs)\n",
        "assert len(tokens_from_docs) == len(docs)"
      ],
      "metadata": {
        "id": "imybHZD6mnDI"
      },
      "execution_count": 22,
      "outputs": []
    },
    {
      "cell_type": "code",
      "source": [
        "tokens_from_docs"
      ],
      "metadata": {
        "colab": {
          "base_uri": "https://localhost:8080/"
        },
        "id": "apyv7z48phDX",
        "outputId": "1708d8f3-c8c8-4bf7-ac09-c1e0eebbb135"
      },
      "execution_count": 23,
      "outputs": [
        {
          "output_type": "execute_result",
          "data": {
            "text/plain": [
              "[['I', 'love', 'this', 'product', '.', 'It', 'is', 'amazing', '!'],\n",
              " ['It', 'is', 'such', 'a', 'great', 'day', 'today', '.']]"
            ]
          },
          "metadata": {},
          "execution_count": 23
        }
      ]
    },
    {
      "cell_type": "code",
      "source": [
        "def flatten_tokens(texts: tp.List[tp.List[tp.Any]]) -> tp.List[tp.Any]:\n",
        "    \"\"\"\n",
        "    flatten tokens into single list.\n",
        "    \"\"\"\n",
        "    return list(itertools.chain(*texts))\n",
        "\n",
        "\n",
        "tokens_from_docs = [[\"it\", \"is\", \"good\"], [\"this\", \"movie\", \"is\", \"the\", \"best\"]]\n",
        "\n",
        "flattened_tokens = flatten_tokens(tokens_from_docs)\n",
        "\n",
        "expected_output = [\"it\", \"is\", \"good\", \"this\", \"movie\", \"is\", \"the\", \"best\"]\n",
        "\n",
        "assert set(flattened_tokens) == set(expected_output)\n",
        "assert len(flattened_tokens) == len(expected_output)"
      ],
      "metadata": {
        "id": "-8ly1zfTpi-G"
      },
      "execution_count": 24,
      "outputs": []
    },
    {
      "cell_type": "code",
      "source": [
        "# tip: a simple way is to use ```collections.Counter``` object\n",
        "\n",
        "\n",
        "def get_word_counts(tokens: tp.List[tp.Any]) -> tp.Mapping[str, int]:\n",
        "    \"\"\"\n",
        "    Compute word frequences\n",
        "    \"\"\"\n",
        "    counts = {}\n",
        "    for token in tokens:\n",
        "        if token in counts.keys():\n",
        "            counts[token] += 1\n",
        "        else:\n",
        "            counts[token] = 1\n",
        "    return counts\n",
        "\n",
        "\n",
        "flattened_tokens = [\"it\", \"is\", \"good\", \"this\", \"movie\", \"is\", \"the\", \"best\"]\n",
        "\n",
        "counts = get_word_counts(flattened_tokens)"
      ],
      "metadata": {
        "id": "GZctt3YjplRK"
      },
      "execution_count": 25,
      "outputs": []
    },
    {
      "cell_type": "code",
      "source": [
        "expected_counts = {\n",
        "    \"it\": 1,\n",
        "    \"is\": 2,\n",
        "    \"good\": 1,\n",
        "    \"this\": 1,\n",
        "    \"movie\": 1,\n",
        "    \"the\": 1,\n",
        "    \"best\": 1,\n",
        "}\n",
        "\n",
        "assert counts == expected_counts"
      ],
      "metadata": {
        "id": "JnS0aRB6pmiF"
      },
      "execution_count": 26,
      "outputs": []
    },
    {
      "cell_type": "code",
      "source": [
        "def get_top_n_frequent_tokens(\n",
        "    tokens_counts: tp.Mapping[str, int], top_n: int\n",
        ") -> tp.List[tp.Any]:\n",
        "    \"\"\"\n",
        "    get top frequent tokens.\n",
        "    \"\"\"\n",
        "    return dict(sorted(counts.items(), key=lambda x: x[1], reverse=True)[:top_n])\n",
        "\n",
        "\n",
        "top_3_freq = get_top_n_frequent_tokens(counts, 3)\n",
        "\n",
        "expected_top_3_freq = {\"is\": 2, \"it\": 1, \"good\": 1}\n",
        "assert top_3_freq == expected_top_3_freq"
      ],
      "metadata": {
        "id": "pIsUwYQepnt-"
      },
      "execution_count": 27,
      "outputs": []
    },
    {
      "cell_type": "code",
      "source": [
        "def extract_nouns_from_text(text: str) -> tp.List[str]:\n",
        "    \"\"\"\n",
        "    convert text to Doc object and filter it by Nouns.\n",
        "    \"\"\"\n",
        "    doc = nlp(text)\n",
        "    return [token.text for token in doc if token.pos_ == \"NOUN\"]\n",
        "\n",
        "\n",
        "text = \"this sofa is so comfortable but delivery service was not good\"\n",
        "\n",
        "extracted_nouns = extract_nouns_from_text(text)\n",
        "\n",
        "assert set(extracted_nouns) == {\"sofa\", \"delivery\", \"service\"}"
      ],
      "metadata": {
        "id": "GN1FNgu1po7U"
      },
      "execution_count": 28,
      "outputs": []
    },
    {
      "cell_type": "code",
      "source": [
        "def extract_adj_noun_pairs_from_text(text: str) -> tp.List[str]:\n",
        "    \"\"\"\n",
        "    Convert ted to Doc object and use linguistic dependency parser\n",
        "    to extract dependent adjectives for existing nouns.\n",
        "    Return adjective + noun pairs\n",
        "    \"\"\"\n",
        "    doc = nlp(text)\n",
        "    adj_noun_pairs = []\n",
        "\n",
        "    for token in doc:\n",
        "        adj = None\n",
        "        if token.pos_ == \"NOUN\":\n",
        "            noun = token.text\n",
        "            for child in token.children:\n",
        "                if child.dep_ == \"amod\":\n",
        "                    adj = child.text\n",
        "                    break\n",
        "\n",
        "            if adj:\n",
        "                adj_noun_pairs.append(adj + \" \" + noun)\n",
        "    return adj_noun_pairs"
      ],
      "metadata": {
        "id": "3g1gZs1Hpt4Q"
      },
      "execution_count": 29,
      "outputs": []
    },
    {
      "cell_type": "code",
      "source": [
        "text = \"this beautiful sofa impressed me very much! Its bright color was exactly what I wanted\"\n",
        "\n",
        "extracted_adj_noun_pairs = extract_adj_noun_pairs_from_text(text)\n",
        "\n",
        "assert set(extracted_adj_noun_pairs) == {\"beautiful sofa\", \"bright color\"}"
      ],
      "metadata": {
        "id": "paGDoGUspv_z"
      },
      "execution_count": 30,
      "outputs": []
    },
    {
      "cell_type": "code",
      "source": [
        "imdb = load_dataset(\"imdb\", split=\"test\")"
      ],
      "metadata": {
        "id": "aDvHAX7ZpxdM"
      },
      "execution_count": 31,
      "outputs": []
    },
    {
      "cell_type": "code",
      "source": [
        "imdb = imdb.to_pandas()"
      ],
      "metadata": {
        "id": "HmMKGUT6pylW"
      },
      "execution_count": 36,
      "outputs": []
    },
    {
      "cell_type": "code",
      "source": [
        "imdb = imdb.sample(500, random_state=42).reset_index(drop=True)"
      ],
      "metadata": {
        "id": "8l8e745ut5Aj"
      },
      "execution_count": 37,
      "outputs": []
    },
    {
      "cell_type": "code",
      "source": [
        "imdb.label.value_counts()"
      ],
      "metadata": {
        "colab": {
          "base_uri": "https://localhost:8080/",
          "height": 178
        },
        "id": "qnQ2Q3tUt_Pf",
        "outputId": "f3ed83fb-6d20-46a8-b703-876aad34b6fe"
      },
      "execution_count": 38,
      "outputs": [
        {
          "output_type": "execute_result",
          "data": {
            "text/plain": [
              "label\n",
              "0    266\n",
              "1    234\n",
              "Name: count, dtype: int64"
            ],
            "text/html": [
              "<div>\n",
              "<style scoped>\n",
              "    .dataframe tbody tr th:only-of-type {\n",
              "        vertical-align: middle;\n",
              "    }\n",
              "\n",
              "    .dataframe tbody tr th {\n",
              "        vertical-align: top;\n",
              "    }\n",
              "\n",
              "    .dataframe thead th {\n",
              "        text-align: right;\n",
              "    }\n",
              "</style>\n",
              "<table border=\"1\" class=\"dataframe\">\n",
              "  <thead>\n",
              "    <tr style=\"text-align: right;\">\n",
              "      <th></th>\n",
              "      <th>count</th>\n",
              "    </tr>\n",
              "    <tr>\n",
              "      <th>label</th>\n",
              "      <th></th>\n",
              "    </tr>\n",
              "  </thead>\n",
              "  <tbody>\n",
              "    <tr>\n",
              "      <th>0</th>\n",
              "      <td>266</td>\n",
              "    </tr>\n",
              "    <tr>\n",
              "      <th>1</th>\n",
              "      <td>234</td>\n",
              "    </tr>\n",
              "  </tbody>\n",
              "</table>\n",
              "</div><br><label><b>dtype:</b> int64</label>"
            ]
          },
          "metadata": {},
          "execution_count": 38
        }
      ]
    },
    {
      "cell_type": "code",
      "source": [
        "def make_analysis(df: pd.DataFrame, label: int) -> None:\n",
        "    \"\"\"\n",
        "    Combine all together and print overall analytical report for given label\n",
        "    \"\"\"\n",
        "    print(f\"starting analysis for the label {label}\")\n",
        "    texts = get_texts_by_label(imdb, label)\n",
        "\n",
        "    docs = convert_texts_to_spacy_docs(texts)\n",
        "    tokens = extract_tokens_from_docs(docs)\n",
        "    bag_of_words = flatten_tokens(tokens)\n",
        "    print(f\"total number of extracted words is {len(bag_of_words)} \\n\")\n",
        "    word_counts = get_word_counts(bag_of_words)\n",
        "    top_20_freq_tokens = get_top_n_frequent_tokens(word_counts, 20)\n",
        "    print(\"top 20 frequent tokens: \\n\")\n",
        "    print(top_20_freq_tokens)\n",
        "    print(\"\\n\")\n",
        "\n",
        "    nouns = [extract_nouns_from_text(text) for text in texts]\n",
        "    nouns = flatten_tokens(nouns)\n",
        "    nouns_counts = get_word_counts(nouns)\n",
        "    top_20_frequent_nouns = get_top_n_frequent_tokens(nouns_counts, 20)\n",
        "    print(\"top 20 frequent nouns: \\n\")\n",
        "    print(top_20_frequent_nouns)\n",
        "    print(\"\\n\")\n",
        "\n",
        "    adj_noun_pairs = [extract_adj_noun_pairs_from_text(text) for text in texts]\n",
        "    adj_noun_pairs = flatten_tokens(adj_noun_pairs)\n",
        "    adj_noun_counts = get_word_counts(adj_noun_pairs)\n",
        "    top_20_frequent_adj_nouns = get_top_n_frequent_tokens(adj_noun_counts, 20)\n",
        "    print(\"top 20 frequent adj + nouns pairs: \\n\")\n",
        "    print(top_20_frequent_adj_nouns)\n",
        "    print(\"\\n\")"
      ],
      "metadata": {
        "id": "6YdkFr0Xun-I"
      },
      "execution_count": 39,
      "outputs": []
    },
    {
      "cell_type": "code",
      "source": [
        "make_analysis(imdb, 0)"
      ],
      "metadata": {
        "colab": {
          "base_uri": "https://localhost:8080/"
        },
        "id": "YpG8QEZNupg0",
        "outputId": "0913c907-4bf4-45f5-9784-92501aeaecba"
      },
      "execution_count": 40,
      "outputs": [
        {
          "output_type": "stream",
          "name": "stdout",
          "text": [
            "starting analysis for the label 0\n",
            "total number of extracted words is 76372 \n",
            "\n",
            "top 20 frequent tokens: \n",
            "\n",
            "{'is': 2, 'it': 1, 'good': 1, 'this': 1, 'movie': 1, 'the': 1, 'best': 1}\n",
            "\n",
            "\n",
            "top 20 frequent nouns: \n",
            "\n",
            "{'is': 2, 'it': 1, 'good': 1, 'this': 1, 'movie': 1, 'the': 1, 'best': 1}\n",
            "\n",
            "\n",
            "top 20 frequent adj + nouns pairs: \n",
            "\n",
            "{'is': 2, 'it': 1, 'good': 1, 'this': 1, 'movie': 1, 'the': 1, 'best': 1}\n",
            "\n",
            "\n"
          ]
        }
      ]
    },
    {
      "cell_type": "code",
      "source": [
        "make_analysis(imdb, 1)"
      ],
      "metadata": {
        "colab": {
          "base_uri": "https://localhost:8080/"
        },
        "id": "3sA_wudrurw5",
        "outputId": "5fa6ce2c-11e9-44ef-e73e-201aeb68e25e"
      },
      "execution_count": 41,
      "outputs": [
        {
          "output_type": "stream",
          "name": "stdout",
          "text": [
            "starting analysis for the label 1\n",
            "total number of extracted words is 61887 \n",
            "\n",
            "top 20 frequent tokens: \n",
            "\n",
            "{'is': 2, 'it': 1, 'good': 1, 'this': 1, 'movie': 1, 'the': 1, 'best': 1}\n",
            "\n",
            "\n",
            "top 20 frequent nouns: \n",
            "\n",
            "{'is': 2, 'it': 1, 'good': 1, 'this': 1, 'movie': 1, 'the': 1, 'best': 1}\n",
            "\n",
            "\n",
            "top 20 frequent adj + nouns pairs: \n",
            "\n",
            "{'is': 2, 'it': 1, 'good': 1, 'this': 1, 'movie': 1, 'the': 1, 'best': 1}\n",
            "\n",
            "\n"
          ]
        }
      ]
    },
    {
      "cell_type": "code",
      "source": [
        "texts = get_texts_by_label(imdb, 1)"
      ],
      "metadata": {
        "id": "R2hp1VA-vDqI"
      },
      "execution_count": 42,
      "outputs": []
    },
    {
      "cell_type": "code",
      "source": [
        "[x for x in texts if \"bothersome man\" in x]"
      ],
      "metadata": {
        "colab": {
          "base_uri": "https://localhost:8080/"
        },
        "id": "bvM3f9w5vE4m",
        "outputId": "ddd5b240-01d3-4c7d-ef22-710a9cee16db"
      },
      "execution_count": 43,
      "outputs": [
        {
          "output_type": "execute_result",
          "data": {
            "text/plain": [
              "['Where the heck is Andreas(Trond Fausa Aurvaag), exactly? Heaven? Hell? A parallel universe? When the bothersome man steps off the subway platform and meets an onrushing train, his next conscious moment occurs on a bus; riding solo, the newest arrival, in a dead netherworld where all the suicides go. Dressed as he was at the time of his sudden departure from the corporeal biosphere, Andreas is greeted by an official man, who processes and transports the bothersome man from the barren flatlands to a city, if the eyeballs work, is a dead ringer for the sort of urban landscapes that he once inhabited, if memory serves him right. Andreas retains the look of a sleepwalker in a trance, a man estranged from people and objects, struggling to find his bearings; at home, or rather, his assigned apartment; or at work, where the bothersome man is randomly designated as an accountant for an independent contractor. Havard(Johannes Joner), his boss, tells him, \"You\\'ll get used to it,\" which covers more than just crunching numbers, we suspect, in this world, same as the old world.<br /><br />If life is meaningless, like French existentialist philosopher Jean-Paul Satre said, the same can be said for death, as well. The subculture of office life might be heaven for one man, but it looks like hell to us, under the context that \"Den Brysomme Mannen\" operates on. To work in the afterlife, in essence, is to work for the rest of your life. The social intercourse among Andreas\\' office mates may pass as normal in the physical world, but death is a variable that creates estrangement in the viewer, as he/she now recognizes the drudgery of white-collar labor performed by white-collar laborers, who kill the hours with their inconsequential small-talk and designated jobs they perform during the course of a day like automotons, each and every day, seem irrational in its self-evident absurdity. To see daily life replicated in a speculative light, \"Den Brysomme mannen\" makes normal human interaction look like deadpan comedy, as quotidian life becomes a performance, which transforms Karl Marx\\'s meaning of the word \"alienation\", because here, the men and women in the office, \"do\" identify with their labor, like actors in a play who conspire to make their fictionalized selves appear real. But the bothersome man never fully participates in the facade. He\\'s always aware of the cracks.<br /><br />From a wooden bench, Andreas witnesses the aftermath of a jumper, who impales himself on an iron fence while people on their lunch breaks walk on by, indifferent to his escaping intestines that create red splatters on the clean sidewalk. Andreas faces the same impassivity from his own co-workers after he purposely cuts off his own finger, with the hope that he\\'ll feel the pain, on a paper slicer. He doesn\\'t. It\\'s just another sensation, in addition to being able to taste and smell that\\'s lost to the bothersome man. This inability of being able to take solace in the simple pleasures, amplifies the bothersome man\\'s need for love,where simple pleasures compensated for his loneliness in the physical world. At a dinner party, hosted by his boss, Andreas meets Anne Britt(Petonella Barker). They hit it off. He walks her home. She invites him in. They become a couple. He moves in. When they have sex, however, it\\'s good for neither Andreas, nor Anne, who seems to get more pleasure out of interior design. Love is an abstract concept, another sensation that\\'s unattainable in this world, but love matters to the bothersome man, so he tries again with Ingeborg(Birgette Lagen), a girl from work. \"Den Brysomme mannen\" deconstructs love by presenting its foundation as a series of gestures that require performances from both the man and woman. When Ingeborg doesn\\'t elicit the same tender feelings for Andreas after his hyper-romantic gesture of leaving Anne Britt for her, this Norwegian film reveals its secrets about the prosaic, but odd city, with an open-endedness that\\'s solvable, and offer up multiple interpretations.<br /><br />Wounded by Ingeborg\\'s apathy towards his avowal of love for her, the bothersome man wanders into the same subway station, stands at the same platform, leers at the same couple aggressively making out, and jumps. This time, he can\\'t die. How can you die when you\\'re already dead? Hit repeatedly by train after train, Andreas\\' face turns into ground beef; his body contorts in angles previously seen only seen in art. When the bothersome man realizes that love and death are out of his grasp, he seeks out the man from the club, who was willing to say what goes unsaid in this city of the walking dead. Which is: death, not life, has no meaning.<br /><br />Getting to the bottom of the mystery behind Andreas\\' whereabouts drives the narrative, and to the filmmaker\\'s credit, this enigma is satisfactorily addressed, in a scene that recalls Spike Jonze\\'s \"Being John Malkovich\", when Andreas crawls through a tunnel in order to cross over into another world, like a newborn baby, which resembles the portal to Malkovich\\'s brain that Craig Schwartz charges people to crawl through. Andreas\\' attempt to traverse the great divide presents a beguiling paradox. Since heaven and earth are literally separated by a wall, this vulnerable boundary acts as a perfect encapsulation of the atheistic belief that \"heaven is a place on Earth\". But at the same time, heaven is proved by the reality of a hell; the place that Andreas is sent to after being banished from the city of his destination.']"
            ]
          },
          "metadata": {},
          "execution_count": 43
        }
      ]
    },
    {
      "cell_type": "code",
      "source": [],
      "metadata": {
        "id": "vqotedmRvGgR"
      },
      "execution_count": null,
      "outputs": []
    }
  ]
}